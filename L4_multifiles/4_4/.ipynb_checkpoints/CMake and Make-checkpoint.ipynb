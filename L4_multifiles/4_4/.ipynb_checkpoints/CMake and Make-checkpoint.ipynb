{
 "cells": [
  {
   "cell_type": "markdown",
   "metadata": {},
   "source": [
    "# CMake and Make\n",
    "\n",
    "<img src=\"cmake.jpg\" style=\"width:200px;height:200px;\">\n",
    "\n",
    "In the previous notebook, you saw how example code could be split into multiple `.h` and `.cpp` files, and you used `g++` to build all of the files together. For small projects with a handful of files, this works well. But what would happen if there were hundreds, or even thousands, of files in the project? You could type the names of the files at the command line each time, but there tools to make this easier.\n",
    "\n",
    "Many larger C++ projects use a [build system](https://en.wikipedia.org/wiki/List_of_build_automation_software) to manage all the files during the build process. The build system allows for large projects to be compiled with a few commands, and build systems are able to do this in an efficient way by only recompiling files that have been changed.\n",
    "\n",
    "In this workspace you will learn about\n",
    "- Object files: what actually happens when you run `g++`.\n",
    "- How to use object files to compile only a single file at a time. If you have many files in a project, this will allow you can compile only files that have changed and need to be re-compiled.\n",
    "- How to use `cmake` (and `make`), a build system which is popular in [large C++ projects](https://cmake.org/success/).CMake will simplify the process of building project and re-compiling only the changed files.\n",
    "\n",
    "Click to go to the next page to see how this works!"
   ]
  },
  {
   "cell_type": "markdown",
   "metadata": {},
   "source": [
    "<!--\n",
    "%%ulab_page_divider\n",
    "--><hr/>"
   ]
  },
  {
   "cell_type": "markdown",
   "metadata": {
    "toggleable": false,
    "ulab": {
     "buttons": {
      "ulab-button-5930bb74": {
       "bashCommand": "ls",
       "filesToOpen": [],
       "isPreviewButton": false,
       "style": "primary",
       "text": "RIGHT CLICK ME"
      },
      "ulab-button-toggle-80c15887": {
       "style": "primary"
      }
     }
    }
   },
   "source": [
    "\n",
    "## Object Files\n",
    "\n",
    "When you compile a project with `g++`, `g++` actually performs several distinct tasks:\n",
    "1. The preprocessor runs and executes any statement beginning with a hash symbol: `#`, such as `#include` statements. This ensures all code is in the correct location and ready to compile.\n",
    "2. Each file in the source code is compiled into an \"object file\" (a `.o` file). Object files are platform-specific machine code that will be used to create an executable.\n",
    "3. The object files  are \"linked\" together to make a single executable. In the examples you have seen so far, this executable is `a.out`, but you can specify whatever name you want.\n",
    "\n",
    "It is possible to have `g++` perform each of the steps separately by using the `-c` flag. For example,\n",
    "```bash\n",
    "g++ -c main.cpp\n",
    "```\n",
    "will produce a `main.o` file, and that file can be converted to an executable with\n",
    "```bash\n",
    "g++ main.o\n",
    "```"
   ]
  },
  {
   "cell_type": "markdown",
   "metadata": {},
   "source": [
    "<!--\n",
    "%%ulab_page_divider\n",
    "--><hr/>"
   ]
  },
  {
   "cell_type": "markdown",
   "metadata": {},
   "source": [
    "## Your Turn\n",
    "Try to compile `main.cpp` to an object file using the commands from the previous page. In the terminal to the right:\n",
    "\n",
    "1. Compile the `main.cpp` file to an object file using the `-c` flag. You can list the files in the directory with `ls`. \n",
    "\n",
    " After compiling, you should see a `main.o` in the directory (along with other notebook files).\n",
    " \n",
    "2. Convert the file to an executable with `g++`.\n",
    "3. Run the executable with `./a.out`."
   ]
  },
  {
   "cell_type": "markdown",
   "metadata": {},
   "source": [
    "<!--\n",
    "%%ulab_page_divider\n",
    "--><hr/>"
   ]
  },
  {
   "cell_type": "markdown",
   "metadata": {},
   "source": [
    "## Compiling One File of Many, Step 1\n",
    "\n",
    "In the previous example, you compiled a single source code file to an object file, and that object file was then converted into an executable. \n",
    "\n",
    "Now you are going to try the same process with multiple files. Navigate to the `multiple_files_example` directory in the terminal to the right. This directory should have the `increment_and_sum` and `vect_add_one` files from a previous Notebook. Try compiling with the commands below:\n",
    "\n",
    "```bash\n",
    "root@abc123defg:/home/workspace/multiple_files_example# g++ -c *.cpp\n",
    "root@abc123defg:/home/workspace/multiple_files_example# g++ *.o\n",
    "root@abc123defg:/home/workspace/multiple_files_example# ./a.out\n",
    "```\n",
    "\n",
    "Here, the `*` operator is a wildcard, so any matching file is selected. If you compile and run these files together, the executable should print: \n",
    "> The total is: 14 "
   ]
  },
  {
   "cell_type": "markdown",
   "metadata": {},
   "source": [
    "<!--\n",
    "%%ulab_page_divider\n",
    "--><hr/>"
   ]
  },
  {
   "cell_type": "markdown",
   "metadata": {},
   "source": [
    "## Compiling One File of Many, Step 2\n",
    "\n",
    "But what if you make changes to your code and you need to re-compile? In that case, you can compile only the file that you changed, and you can use the existing object files from the unchanged source files for linking.\n",
    "\n",
    "Try changing the code in `/multiple_files_example/main.cpp` to have different numbers in the vector and save the file with `CTRL-s`.\n",
    "\n",
    "When you have done that, re-compile just `main.cpp` by running:\n",
    "```bash\n",
    "root@abc123defg:/home/workspace/multiple_files_example# g++ -c main.cpp\n",
    "root@abc123defg:/home/workspace/multiple_files_example# g++ *.o\n",
    "root@abc123defg:/home/workspace/multiple_files_example# ./a.out\n",
    "```\n",
    "\n",
    "Compiling just the file you have changed saves time if there are many files and compilation takes a long time. However, the process above is tedious when using many files, especially if you don't remember which ones you have modified. \n",
    "\n",
    "For larger projects, it is helpful to use a build system which can compile exactly the right files for you and take care of linking. \n",
    "\n",
    "On the next page, we'll introduce a cross-platform build system that you'll be using in several of the projects in this Nanodegree program."
   ]
  },
  {
   "cell_type": "markdown",
   "metadata": {},
   "source": [
    "<!--\n",
    "%%ulab_page_divider\n",
    "--><hr/>"
   ]
  },
  {
   "cell_type": "markdown",
   "metadata": {},
   "source": [
    "## CMake and Make\n",
    "\n",
    "CMake is an open-source, platform-independent build system. CMake uses text documents, denoted as `CMakeLists.txt` files, to manage build environments, like [make](https://en.wikipedia.org/wiki/Make_(software)). A comprehensive tutorial on CMake would require an entire course, but you can learn the basics of CMake here, so you'll be ready to use it in the upcoming projects.\n",
    "\n",
    "### CMakeLists.txt\n",
    "\n",
    "`CMakeList.txt` files are simple text configuration files that tell CMake how to build your project. There can be multiple `CMakeLists.txt` files in a project. In fact, one `CMakeList.txt` file can be included in each directory of the project, indicating how the files in that directory should be built.\n",
    "\n",
    "These files can be used to specify the locations of necessary packages, set build flags and environment variables, specify build target names and locations, and other actions.\n",
    "\n",
    "In the next few pages of this workspace, you are going to create a basic `CMakeLists.txt` file to build a small project.\n",
    "\n",
    "If you have trouble with any of these steps, see the file `SolutionCMakeLists.txt` in the tab on the right."
   ]
  },
  {
   "cell_type": "markdown",
   "metadata": {},
   "source": [
    "<!--\n",
    "%%ulab_page_divider\n",
    "--><hr/>"
   ]
  },
  {
   "cell_type": "markdown",
   "metadata": {},
   "source": [
    "## CMake Step 1\n",
    "\n",
    "In the terminal to the right, navigate to the `cmake_example` folder. This folder should contain a simple CMake project, including:\n",
    "\n",
    "- An empty `CMakeLists.txt` file\n",
    "- A `src` directory with the `increment_and_sum` and `vect_add_one` files from a previous Notebook\n",
    "\n",
    "The `CMakeLists.txt` file should be open in the tabs on the right, along with the files from the `src` directory. You will write a basic `CMakeLists.txt` file to build all of these project files into an executable. \n",
    "\n",
    "The first lines that you'll want in your `CMakeLists.txt` are lines that specifies the minimum versions of cmake and C++ required to build the project. Add the following lines to your `CMakeLists.txt` and save the file:\n",
    "\n",
    "```cmake\n",
    "cmake_minimum_required(VERSION 3.5.1)\n",
    "\n",
    "set(CMAKE_CXX_STANDARD 14)\n",
    "```\n",
    "\n",
    "These lines set the minimum cmake version required to 3.5.1 and set the environment variable `CMAKE_CXX_STANDARD` so CMake uses C++ 14. On your own computer, if you have a recent `g++` compiler, you could use C++ 17 instead."
   ]
  },
  {
   "cell_type": "markdown",
   "metadata": {},
   "source": [
    "<!--\n",
    "%%ulab_page_divider\n",
    "--><hr/>"
   ]
  },
  {
   "cell_type": "markdown",
   "metadata": {},
   "source": [
    "## CMake Step 2\n",
    "\n",
    "CMake requires that we name the project, so you should choose a name for the project and then add the following line to `CMakeLists.txt`:\n",
    "\n",
    "```cmake\n",
    "project(<your_project_name>)\n",
    "```\n",
    "\n",
    "You can choose any name you want, but be sure to change `<your_project_name>` to the actual name of the project!"
   ]
  },
  {
   "cell_type": "markdown",
   "metadata": {},
   "source": [
    "<!--\n",
    "%%ulab_page_divider\n",
    "--><hr/>"
   ]
  },
  {
   "cell_type": "markdown",
   "metadata": {},
   "source": [
    "## CMake Step 3\n",
    "\n",
    "Next, we want to add an executable to this project. You can do that with the `add_executable` command by specifying the executable name, along with the locations of all the source files that you will need. CMake has the ability to automatically find source files in a directory, but for now, you can just specify each file needed:\n",
    "\n",
    "```cmake\n",
    "add_executable(your_executable_name  path_to_file_1  path_to_file_2 ...)\n",
    "```\n",
    "\n",
    "Hint: The source files you need are the _three_ .cpp files in the `src/` directory. You can specify the path relative to the `CMakeLists.txt` file, so `src/main.cpp` would work, for example."
   ]
  },
  {
   "cell_type": "markdown",
   "metadata": {},
   "source": [
    "<!--\n",
    "%%ulab_page_divider\n",
    "--><hr/>"
   ]
  },
  {
   "cell_type": "markdown",
   "metadata": {},
   "source": [
    "## CMake Step 4\n",
    "\n",
    "A typical CMake project will have a `build` directory in the same place as the top-level `CMakeLists.txt`. Make a `build` directory in the `/home/workspace/cmake_example` folder:\n",
    "\n",
    "```bash\n",
    "root@abc123defg:/home/workspace/cmake_example# mkdir build\n",
    "root@abc123defg:/home/workspace/cmake_example# cd build\n",
    "```\n",
    "\n",
    "From within the build directory, you can now run CMake as follows:\n",
    "\n",
    "```bash\n",
    "root@abc123defg:/home/workspace/cmake_example/build# cmake ..\n",
    "root@abc123defg:/home/workspace/cmake_example/build# make\n",
    "```\n",
    "\n",
    "The first line directs the `cmake` command at the top-level `CMakeLists.txt` file with `..`. This command uses the `CMakeLists.txt` to configure the project and create a [`Makefile`](https://en.wikipedia.org/wiki/Makefile) in the `build` directory. \n",
    "\n",
    "In the second line, `make` finds the `Makefile` and uses the instructions in the `Makefile` to build the project.\n",
    "\n",
    "If CMake and Make are successful, you should see something like the following output in the terminal:\n",
    "\n",
    "<img src=\"/cmake_example/cmake_and_make.png\">"
   ]
  },
  {
   "cell_type": "markdown",
   "metadata": {},
   "source": [
    "<!--\n",
    "%%ulab_page_divider\n",
    "--><hr/>"
   ]
  },
  {
   "cell_type": "markdown",
   "metadata": {},
   "source": [
    "## CMake Step 5\n",
    "\n",
    "If everything has worked correctly, you should now be able to run your executable from the build folder:\n",
    "```bash\n",
    "root@abc123defg:/home/workspace/cmake_example/build# ./your_executable_name\n",
    "```\n",
    "This executable should print:\n",
    ">The total is: 14 \n",
    "\n",
    "just as it did in the previous workspace.\n",
    "\n",
    "If you don't remember the name of your executable, the last line of the `make` output should tell you:\n",
    "```bash\n",
    "[100%] Built target <your_executable_name>\n",
    "```\n"
   ]
  },
  {
   "cell_type": "markdown",
   "metadata": {},
   "source": [
    "<!--\n",
    "%%ulab_page_divider\n",
    "--><hr/>"
   ]
  },
  {
   "cell_type": "markdown",
   "metadata": {},
   "source": [
    "## CMake Step 6\n",
    "\n",
    "Now that your project builds correctly, try modifying one of the files. When you are ready to run the project again, you'll only need to run the `make` command from the build folder, and only that file will be compiled again. Try it now!\n",
    "\n",
    "In general, CMake only needs to be run once for a project, unless you are changing build options (e.g. using different build flags or changing where you store your files).\n",
    "\n",
    "`Make` will be able to keep track of which files have changed and compile only those that need to be compiled before building.\n",
    "\n",
    "**Note:** If you do re-run CMake, or if you are having problems with your build, _it can be helpful to delete your build directory and start from scratch. Otherwise, some environment variables may not be reset correctly._"
   ]
  },
  {
   "cell_type": "markdown",
   "metadata": {},
   "source": [
    "<!--\n",
    "%%ulab_page_divider\n",
    "--><hr/>"
   ]
  },
  {
   "cell_type": "markdown",
   "metadata": {},
   "source": [
    "## CMake Review\n",
    "\n",
    "Excellent work! You've now written a basic `CMakeLists.txt` file that builds a small project for you.\n",
    "\n",
    "CMake is a build system that uses text files named `CMakeLists.txt` to configure and build your project. Once the `CMakeLists.txt` is written, you only need the `cmake` and `make` commands to build your project again and again, so it is very convenient to use!\n",
    "\n",
    "\n",
    "Coming up, we will provide the `CMakeLists.txt` for your course project, and as you will see, it creates two executables and links several external libraries, so it will be a bit longer than the one you've just created. However, you should now have a better understanding of the mechanics of CMake, and you are ready to start experimenting with CMake on your own projects."
   ]
  }
 ],
 "metadata": {
  "kernelspec": {
   "display_name": "Python 3",
   "language": "python",
   "name": "python3"
  },
  "language_info": {
   "codemirror_mode": {
    "name": "ipython",
    "version": 3
   },
   "file_extension": ".py",
   "mimetype": "text/x-python",
   "name": "python",
   "nbconvert_exporter": "python",
   "pygments_lexer": "ipython3",
   "version": "3.6.3"
  },
  "ulab_nb_type": "guided"
 },
 "nbformat": 4,
 "nbformat_minor": 2
}
